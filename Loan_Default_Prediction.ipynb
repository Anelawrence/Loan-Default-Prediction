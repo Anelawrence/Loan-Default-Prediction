{
 "cells": [
  {
   "cell_type": "markdown",
   "id": "d7ff8078-ea5e-462b-a041-c062ba51f961",
   "metadata": {},
   "source": [
    "# Loan Default Prediction"
   ]
  },
  {
   "cell_type": "code",
   "execution_count": 63,
   "id": "533e40a1-2418-4364-a04f-28c08daa4035",
   "metadata": {},
   "outputs": [],
   "source": [
    "import pandas as pd\n",
    "import numpy as np \n",
    "import seaborn as sb\n",
    "import matplotlib.pyplot as plt\n",
    "from sklearn.preprocessing import OneHotEncoder\n",
    "from sklearn.preprocessing import StandardScaler"
   ]
  },
  {
   "cell_type": "code",
   "execution_count": 64,
   "id": "a67f623a-7f05-4540-8823-9caf1ef2b4cd",
   "metadata": {},
   "outputs": [],
   "source": [
    "# Load the data set\n",
    "df = pd.read_csv(\"Loan Default.csv\")"
   ]
  },
  {
   "cell_type": "code",
   "execution_count": 65,
   "id": "db30267d-0d8f-4ae2-b753-60ee0f9a9abf",
   "metadata": {},
   "outputs": [
    {
     "data": {
      "text/html": [
       "<div>\n",
       "<style scoped>\n",
       "    .dataframe tbody tr th:only-of-type {\n",
       "        vertical-align: middle;\n",
       "    }\n",
       "\n",
       "    .dataframe tbody tr th {\n",
       "        vertical-align: top;\n",
       "    }\n",
       "\n",
       "    .dataframe thead th {\n",
       "        text-align: right;\n",
       "    }\n",
       "</style>\n",
       "<table border=\"1\" class=\"dataframe\">\n",
       "  <thead>\n",
       "    <tr style=\"text-align: right;\">\n",
       "      <th></th>\n",
       "      <th>BAD</th>\n",
       "      <th>LOAN</th>\n",
       "      <th>MORTDUE</th>\n",
       "      <th>VALUE</th>\n",
       "      <th>REASON</th>\n",
       "      <th>JOB</th>\n",
       "      <th>YOJ</th>\n",
       "      <th>DEROG</th>\n",
       "      <th>DELINQ</th>\n",
       "      <th>CLAGE</th>\n",
       "      <th>NINQ</th>\n",
       "      <th>CLNO</th>\n",
       "      <th>DEBTINC</th>\n",
       "    </tr>\n",
       "  </thead>\n",
       "  <tbody>\n",
       "    <tr>\n",
       "      <th>0</th>\n",
       "      <td>1</td>\n",
       "      <td>1100</td>\n",
       "      <td>25860.0</td>\n",
       "      <td>39025.0</td>\n",
       "      <td>HomeImp</td>\n",
       "      <td>Other</td>\n",
       "      <td>10.5</td>\n",
       "      <td>0.0</td>\n",
       "      <td>0.0</td>\n",
       "      <td>94.366667</td>\n",
       "      <td>1.0</td>\n",
       "      <td>9.0</td>\n",
       "      <td>NaN</td>\n",
       "    </tr>\n",
       "    <tr>\n",
       "      <th>1</th>\n",
       "      <td>1</td>\n",
       "      <td>1300</td>\n",
       "      <td>70053.0</td>\n",
       "      <td>68400.0</td>\n",
       "      <td>HomeImp</td>\n",
       "      <td>Other</td>\n",
       "      <td>7.0</td>\n",
       "      <td>0.0</td>\n",
       "      <td>2.0</td>\n",
       "      <td>121.833333</td>\n",
       "      <td>0.0</td>\n",
       "      <td>14.0</td>\n",
       "      <td>NaN</td>\n",
       "    </tr>\n",
       "    <tr>\n",
       "      <th>2</th>\n",
       "      <td>1</td>\n",
       "      <td>1500</td>\n",
       "      <td>13500.0</td>\n",
       "      <td>16700.0</td>\n",
       "      <td>HomeImp</td>\n",
       "      <td>Other</td>\n",
       "      <td>4.0</td>\n",
       "      <td>0.0</td>\n",
       "      <td>0.0</td>\n",
       "      <td>149.466667</td>\n",
       "      <td>1.0</td>\n",
       "      <td>10.0</td>\n",
       "      <td>NaN</td>\n",
       "    </tr>\n",
       "    <tr>\n",
       "      <th>3</th>\n",
       "      <td>1</td>\n",
       "      <td>1500</td>\n",
       "      <td>NaN</td>\n",
       "      <td>NaN</td>\n",
       "      <td>NaN</td>\n",
       "      <td>NaN</td>\n",
       "      <td>NaN</td>\n",
       "      <td>NaN</td>\n",
       "      <td>NaN</td>\n",
       "      <td>NaN</td>\n",
       "      <td>NaN</td>\n",
       "      <td>NaN</td>\n",
       "      <td>NaN</td>\n",
       "    </tr>\n",
       "    <tr>\n",
       "      <th>4</th>\n",
       "      <td>0</td>\n",
       "      <td>1700</td>\n",
       "      <td>97800.0</td>\n",
       "      <td>112000.0</td>\n",
       "      <td>HomeImp</td>\n",
       "      <td>Office</td>\n",
       "      <td>3.0</td>\n",
       "      <td>0.0</td>\n",
       "      <td>0.0</td>\n",
       "      <td>93.333333</td>\n",
       "      <td>0.0</td>\n",
       "      <td>14.0</td>\n",
       "      <td>NaN</td>\n",
       "    </tr>\n",
       "  </tbody>\n",
       "</table>\n",
       "</div>"
      ],
      "text/plain": [
       "   BAD  LOAN  MORTDUE     VALUE   REASON     JOB   YOJ  DEROG  DELINQ  \\\n",
       "0    1  1100  25860.0   39025.0  HomeImp   Other  10.5    0.0     0.0   \n",
       "1    1  1300  70053.0   68400.0  HomeImp   Other   7.0    0.0     2.0   \n",
       "2    1  1500  13500.0   16700.0  HomeImp   Other   4.0    0.0     0.0   \n",
       "3    1  1500      NaN       NaN      NaN     NaN   NaN    NaN     NaN   \n",
       "4    0  1700  97800.0  112000.0  HomeImp  Office   3.0    0.0     0.0   \n",
       "\n",
       "        CLAGE  NINQ  CLNO  DEBTINC  \n",
       "0   94.366667   1.0   9.0      NaN  \n",
       "1  121.833333   0.0  14.0      NaN  \n",
       "2  149.466667   1.0  10.0      NaN  \n",
       "3         NaN   NaN   NaN      NaN  \n",
       "4   93.333333   0.0  14.0      NaN  "
      ]
     },
     "execution_count": 65,
     "metadata": {},
     "output_type": "execute_result"
    }
   ],
   "source": [
    "df.head()"
   ]
  },
  {
   "cell_type": "code",
   "execution_count": 66,
   "id": "21d1775a-1493-4dd3-aaa0-86996c7d0dfd",
   "metadata": {},
   "outputs": [
    {
     "data": {
      "text/html": [
       "<div>\n",
       "<style scoped>\n",
       "    .dataframe tbody tr th:only-of-type {\n",
       "        vertical-align: middle;\n",
       "    }\n",
       "\n",
       "    .dataframe tbody tr th {\n",
       "        vertical-align: top;\n",
       "    }\n",
       "\n",
       "    .dataframe thead th {\n",
       "        text-align: right;\n",
       "    }\n",
       "</style>\n",
       "<table border=\"1\" class=\"dataframe\">\n",
       "  <thead>\n",
       "    <tr style=\"text-align: right;\">\n",
       "      <th></th>\n",
       "      <th>BAD</th>\n",
       "      <th>LOAN</th>\n",
       "      <th>MORTDUE</th>\n",
       "      <th>VALUE</th>\n",
       "      <th>YOJ</th>\n",
       "      <th>DEROG</th>\n",
       "      <th>DELINQ</th>\n",
       "      <th>CLAGE</th>\n",
       "      <th>NINQ</th>\n",
       "      <th>CLNO</th>\n",
       "      <th>DEBTINC</th>\n",
       "    </tr>\n",
       "  </thead>\n",
       "  <tbody>\n",
       "    <tr>\n",
       "      <th>count</th>\n",
       "      <td>5960.000000</td>\n",
       "      <td>5960.000000</td>\n",
       "      <td>5442.000000</td>\n",
       "      <td>5848.000000</td>\n",
       "      <td>5445.000000</td>\n",
       "      <td>5252.000000</td>\n",
       "      <td>5380.000000</td>\n",
       "      <td>5652.000000</td>\n",
       "      <td>5450.000000</td>\n",
       "      <td>5738.000000</td>\n",
       "      <td>4693.000000</td>\n",
       "    </tr>\n",
       "    <tr>\n",
       "      <th>mean</th>\n",
       "      <td>0.199497</td>\n",
       "      <td>18607.969799</td>\n",
       "      <td>73760.817200</td>\n",
       "      <td>101776.048741</td>\n",
       "      <td>8.922268</td>\n",
       "      <td>0.254570</td>\n",
       "      <td>0.449442</td>\n",
       "      <td>179.766275</td>\n",
       "      <td>1.186055</td>\n",
       "      <td>21.296096</td>\n",
       "      <td>33.779915</td>\n",
       "    </tr>\n",
       "    <tr>\n",
       "      <th>std</th>\n",
       "      <td>0.399656</td>\n",
       "      <td>11207.480417</td>\n",
       "      <td>44457.609458</td>\n",
       "      <td>57385.775334</td>\n",
       "      <td>7.573982</td>\n",
       "      <td>0.846047</td>\n",
       "      <td>1.127266</td>\n",
       "      <td>85.810092</td>\n",
       "      <td>1.728675</td>\n",
       "      <td>10.138933</td>\n",
       "      <td>8.601746</td>\n",
       "    </tr>\n",
       "    <tr>\n",
       "      <th>min</th>\n",
       "      <td>0.000000</td>\n",
       "      <td>1100.000000</td>\n",
       "      <td>2063.000000</td>\n",
       "      <td>8000.000000</td>\n",
       "      <td>0.000000</td>\n",
       "      <td>0.000000</td>\n",
       "      <td>0.000000</td>\n",
       "      <td>0.000000</td>\n",
       "      <td>0.000000</td>\n",
       "      <td>0.000000</td>\n",
       "      <td>0.524499</td>\n",
       "    </tr>\n",
       "    <tr>\n",
       "      <th>25%</th>\n",
       "      <td>0.000000</td>\n",
       "      <td>11100.000000</td>\n",
       "      <td>46276.000000</td>\n",
       "      <td>66075.500000</td>\n",
       "      <td>3.000000</td>\n",
       "      <td>0.000000</td>\n",
       "      <td>0.000000</td>\n",
       "      <td>115.116702</td>\n",
       "      <td>0.000000</td>\n",
       "      <td>15.000000</td>\n",
       "      <td>29.140031</td>\n",
       "    </tr>\n",
       "    <tr>\n",
       "      <th>50%</th>\n",
       "      <td>0.000000</td>\n",
       "      <td>16300.000000</td>\n",
       "      <td>65019.000000</td>\n",
       "      <td>89235.500000</td>\n",
       "      <td>7.000000</td>\n",
       "      <td>0.000000</td>\n",
       "      <td>0.000000</td>\n",
       "      <td>173.466667</td>\n",
       "      <td>1.000000</td>\n",
       "      <td>20.000000</td>\n",
       "      <td>34.818262</td>\n",
       "    </tr>\n",
       "    <tr>\n",
       "      <th>75%</th>\n",
       "      <td>0.000000</td>\n",
       "      <td>23300.000000</td>\n",
       "      <td>91488.000000</td>\n",
       "      <td>119824.250000</td>\n",
       "      <td>13.000000</td>\n",
       "      <td>0.000000</td>\n",
       "      <td>0.000000</td>\n",
       "      <td>231.562278</td>\n",
       "      <td>2.000000</td>\n",
       "      <td>26.000000</td>\n",
       "      <td>39.003141</td>\n",
       "    </tr>\n",
       "    <tr>\n",
       "      <th>max</th>\n",
       "      <td>1.000000</td>\n",
       "      <td>89900.000000</td>\n",
       "      <td>399550.000000</td>\n",
       "      <td>855909.000000</td>\n",
       "      <td>41.000000</td>\n",
       "      <td>10.000000</td>\n",
       "      <td>15.000000</td>\n",
       "      <td>1168.233561</td>\n",
       "      <td>17.000000</td>\n",
       "      <td>71.000000</td>\n",
       "      <td>203.312149</td>\n",
       "    </tr>\n",
       "  </tbody>\n",
       "</table>\n",
       "</div>"
      ],
      "text/plain": [
       "               BAD          LOAN        MORTDUE          VALUE          YOJ  \\\n",
       "count  5960.000000   5960.000000    5442.000000    5848.000000  5445.000000   \n",
       "mean      0.199497  18607.969799   73760.817200  101776.048741     8.922268   \n",
       "std       0.399656  11207.480417   44457.609458   57385.775334     7.573982   \n",
       "min       0.000000   1100.000000    2063.000000    8000.000000     0.000000   \n",
       "25%       0.000000  11100.000000   46276.000000   66075.500000     3.000000   \n",
       "50%       0.000000  16300.000000   65019.000000   89235.500000     7.000000   \n",
       "75%       0.000000  23300.000000   91488.000000  119824.250000    13.000000   \n",
       "max       1.000000  89900.000000  399550.000000  855909.000000    41.000000   \n",
       "\n",
       "             DEROG       DELINQ        CLAGE         NINQ         CLNO  \\\n",
       "count  5252.000000  5380.000000  5652.000000  5450.000000  5738.000000   \n",
       "mean      0.254570     0.449442   179.766275     1.186055    21.296096   \n",
       "std       0.846047     1.127266    85.810092     1.728675    10.138933   \n",
       "min       0.000000     0.000000     0.000000     0.000000     0.000000   \n",
       "25%       0.000000     0.000000   115.116702     0.000000    15.000000   \n",
       "50%       0.000000     0.000000   173.466667     1.000000    20.000000   \n",
       "75%       0.000000     0.000000   231.562278     2.000000    26.000000   \n",
       "max      10.000000    15.000000  1168.233561    17.000000    71.000000   \n",
       "\n",
       "           DEBTINC  \n",
       "count  4693.000000  \n",
       "mean     33.779915  \n",
       "std       8.601746  \n",
       "min       0.524499  \n",
       "25%      29.140031  \n",
       "50%      34.818262  \n",
       "75%      39.003141  \n",
       "max     203.312149  "
      ]
     },
     "execution_count": 66,
     "metadata": {},
     "output_type": "execute_result"
    }
   ],
   "source": [
    "df.describe()"
   ]
  },
  {
   "cell_type": "code",
   "execution_count": 67,
   "id": "3e6ab6f6-849e-4c55-a76b-bd893314dc91",
   "metadata": {},
   "outputs": [
    {
     "data": {
      "text/plain": [
       "BAD\n",
       "0    4771\n",
       "1    1189\n",
       "Name: count, dtype: int64"
      ]
     },
     "execution_count": 67,
     "metadata": {},
     "output_type": "execute_result"
    }
   ],
   "source": [
    "df.BAD.value_counts()"
   ]
  },
  {
   "cell_type": "code",
   "execution_count": 68,
   "id": "337a7997-a1ce-4195-8ca3-29bce9666d8a",
   "metadata": {},
   "outputs": [
    {
     "data": {
      "text/plain": [
       "BAD           0\n",
       "LOAN          0\n",
       "MORTDUE     518\n",
       "VALUE       112\n",
       "REASON      252\n",
       "JOB         279\n",
       "YOJ         515\n",
       "DEROG       708\n",
       "DELINQ      580\n",
       "CLAGE       308\n",
       "NINQ        510\n",
       "CLNO        222\n",
       "DEBTINC    1267\n",
       "dtype: int64"
      ]
     },
     "execution_count": 68,
     "metadata": {},
     "output_type": "execute_result"
    }
   ],
   "source": [
    "#check for null values in the data\n",
    "df.isnull().sum()"
   ]
  },
  {
   "cell_type": "code",
   "execution_count": 69,
   "id": "58d7cb7e-686c-4a02-8525-747b109043fe",
   "metadata": {},
   "outputs": [],
   "source": [
    "# Filling the null values with mode if column is category, and mean if column is numerical. \n",
    "df.fillna({'MORTDUE':df.MORTDUE.mean(), 'VALUE': df.VALUE.mean(), 'REASON':df.REASON.mode()[0], \n",
    "          'JOB':df.JOB.mode()[0], 'YOJ':df.YOJ.mean(), 'DEROG':df.DEROG.mean(), 'DELINQ':df.DELINQ.mean(), \n",
    "           'CLAGE':df.CLAGE.mean(), 'NINQ':df.NINQ.mean(), 'CLNO':df.CLNO.mean(), 'DEBTINC':df.DEBTINC.mean() }, inplace=True)"
   ]
  },
  {
   "cell_type": "code",
   "execution_count": 70,
   "id": "233857d0-1aed-4f7c-9b7c-3014648750b1",
   "metadata": {},
   "outputs": [
    {
     "data": {
      "text/plain": [
       "BAD          int64\n",
       "LOAN         int64\n",
       "MORTDUE    float64\n",
       "VALUE      float64\n",
       "REASON      object\n",
       "JOB         object\n",
       "YOJ        float64\n",
       "DEROG      float64\n",
       "DELINQ     float64\n",
       "CLAGE      float64\n",
       "NINQ       float64\n",
       "CLNO       float64\n",
       "DEBTINC    float64\n",
       "dtype: object"
      ]
     },
     "execution_count": 70,
     "metadata": {},
     "output_type": "execute_result"
    }
   ],
   "source": [
    "# Checking data types\n",
    "df.dtypes"
   ]
  },
  {
   "cell_type": "code",
   "execution_count": 71,
   "id": "90133684-16d6-4efb-9d48-1ee1a07bff5e",
   "metadata": {},
   "outputs": [
    {
     "data": {
      "text/plain": [
       "BAD        0\n",
       "LOAN       0\n",
       "MORTDUE    0\n",
       "VALUE      0\n",
       "REASON     0\n",
       "JOB        0\n",
       "YOJ        0\n",
       "DEROG      0\n",
       "DELINQ     0\n",
       "CLAGE      0\n",
       "NINQ       0\n",
       "CLNO       0\n",
       "DEBTINC    0\n",
       "dtype: int64"
      ]
     },
     "execution_count": 71,
     "metadata": {},
     "output_type": "execute_result"
    }
   ],
   "source": [
    "#check for null values in the data\n",
    "df.isnull().sum()"
   ]
  },
  {
   "cell_type": "code",
   "execution_count": 72,
   "id": "2299707c-21e2-437d-8461-f97e0bc22636",
   "metadata": {},
   "outputs": [
    {
     "name": "stdout",
     "output_type": "stream",
     "text": [
      "0\n"
     ]
    }
   ],
   "source": [
    "print(df.duplicated().sum()) #Checking for duplicate rows"
   ]
  },
  {
   "cell_type": "markdown",
   "id": "06618aa8-4ba3-4161-99d7-b82688e2237d",
   "metadata": {},
   "source": [
    "## EDA"
   ]
  },
  {
   "cell_type": "code",
   "execution_count": 73,
   "id": "b61263c0-1d35-4176-af96-e3392c10484d",
   "metadata": {},
   "outputs": [
    {
     "data": {
      "text/plain": [
       "<Axes: >"
      ]
     },
     "execution_count": 73,
     "metadata": {},
     "output_type": "execute_result"
    },
    {
     "data": {
      "image/png": "[encoded data removed]",
      "text/plain": [
       "<Figure size 640x480 with 2 Axes>"
      ]
     },
     "metadata": {},
     "output_type": "display_data"
    }
   ],
   "source": [
    "# correlation heatmap of the data set\n",
    "numeric_df = df.select_dtypes(include=[np.number])\n",
    "sb.heatmap(numeric_df.corr(), cmap = \"coolwarm\",  annot=True)"
   ]
  },
  {
   "cell_type": "markdown",
   "id": "7f5717e2-6cf1-44b1-a74c-62b07324fafb",
   "metadata": {},
   "source": [
    "Most the numerical columns has very weak correlation with the target column(BAD)"
   ]
  },
  {
   "cell_type": "code",
   "execution_count": 74,
   "id": "5c1ce811-2203-40b1-bfa1-3f4a78535f4e",
   "metadata": {},
   "outputs": [
    {
     "data": {
      "text/plain": [
       "array([[<Axes: title={'center': 'BAD'}>,\n",
       "        <Axes: title={'center': 'LOAN'}>,\n",
       "        <Axes: title={'center': 'MORTDUE'}>],\n",
       "       [<Axes: title={'center': 'VALUE'}>,\n",
       "        <Axes: title={'center': 'YOJ'}>,\n",
       "        <Axes: title={'center': 'DEROG'}>],\n",
       "       [<Axes: title={'center': 'DELINQ'}>,\n",
       "        <Axes: title={'center': 'CLAGE'}>,\n",
       "        <Axes: title={'center': 'NINQ'}>],\n",
       "       [<Axes: title={'center': 'CLNO'}>,\n",
       "        <Axes: title={'center': 'DEBTINC'}>, <Axes: >]], dtype=object)"
      ]
     },
     "execution_count": 74,
     "metadata": {},
     "output_type": "execute_result"
    },
    {
     "data": {
      "image/png": "[encoded data removed]",
      "text/plain": [
       "<Figure size 1000x1000 with 12 Axes>"
      ]
     },
     "metadata": {},
     "output_type": "display_data"
    }
   ],
   "source": [
    "# Checking for skewness in the data\n",
    "df.hist(figsize=(10,10))"
   ]
  },
  {
   "cell_type": "code",
   "execution_count": 75,
   "id": "cbe53897-9269-4002-81e2-69e96ad8737c",
   "metadata": {},
   "outputs": [],
   "source": [
    "def skew_function():\n",
    "    \n",
    "    \"\"\" I want to pull out all the skewed columns in the dataframe\"\"\"\n",
    "    \n",
    "    skew_value = []\n",
    "    \n",
    "    for col in df.select_dtypes('number'):\n",
    "        skew_col = df[col].skew()\n",
    "        skew_value.append((col , skew_col))\n",
    "    return sorted(skew_value , key = lambda x : x[1] , reverse = True)"
   ]
  },
  {
   "cell_type": "code",
   "execution_count": 76,
   "id": "ecce558b-b2bb-43fe-93b6-df52a4f3354b",
   "metadata": {},
   "outputs": [
    {
     "data": {
      "text/plain": [
       "[('DEROG', np.float64(5.667985090578184)),\n",
       " ('DELINQ', np.float64(4.234346396768079)),\n",
       " ('DEBTINC', np.float64(3.2141908892798194)),\n",
       " ('VALUE', np.float64(3.0824293252708372)),\n",
       " ('NINQ', np.float64(2.7418564400693493)),\n",
       " ('LOAN', np.float64(2.023780711662712)),\n",
       " ('MORTDUE', np.float64(1.8988287843829155)),\n",
       " ('BAD', np.float64(1.5043166751458978)),\n",
       " ('CLAGE', np.float64(1.3795115209552562)),\n",
       " ('YOJ', np.float64(1.0341248526816795)),\n",
       " ('CLNO', np.float64(0.789894942639266))]"
      ]
     },
     "execution_count": 76,
     "metadata": {},
     "output_type": "execute_result"
    }
   ],
   "source": [
    "skew_function()"
   ]
  },
  {
   "cell_type": "markdown",
   "id": "1c3071f3-6ee3-4305-9ff1-78c35508c4dc",
   "metadata": {},
   "source": [
    "#### Remove target variable from the DataFrame"
   ]
  },
  {
   "cell_type": "code",
   "execution_count": 77,
   "id": "6521f83e-10ae-4abe-a33d-ff121baf66cd",
   "metadata": {},
   "outputs": [],
   "source": [
    "loan_label = df[\"BAD\"]\n",
    "raw_df = df.copy()\n",
    "df.drop(\"BAD\" , axis = 1 , inplace = True)"
   ]
  },
  {
   "cell_type": "markdown",
   "id": "260d0019-97a4-4748-9309-defd30b6c796",
   "metadata": {},
   "source": [
    "### Data Preprocessing"
   ]
  },
  {
   "cell_type": "code",
   "execution_count": 78,
   "id": "e77ac3fa-1575-4e1b-9393-c6896dc406c0",
   "metadata": {},
   "outputs": [],
   "source": [
    "from sklearn.preprocessing import StandardScaler\n",
    "scaler = StandardScaler()"
   ]
  },
  {
   "cell_type": "code",
   "execution_count": 79,
   "id": "4da0cc17-9e39-44bb-8f1f-a3348e02d627",
   "metadata": {},
   "outputs": [],
   "source": [
    " # Standardizing the numerical columns\n",
    "numerical_cols = list(df.select_dtypes('number').columns)\n",
    "df[numerical_cols] = scaler.fit_transform(df[numerical_cols])"
   ]
  },
  {
   "cell_type": "markdown",
   "id": "1332b667-f47b-4c22-9a08-bcd7bffb7a35",
   "metadata": {},
   "source": [
    "#### Transform categorical columns"
   ]
  },
  {
   "cell_type": "code",
   "execution_count": 80,
   "id": "e51b6841-b7f7-465b-b623-24f718fc6225",
   "metadata": {},
   "outputs": [],
   "source": [
    "df = pd.get_dummies(df)"
   ]
  },
  {
   "cell_type": "code",
   "execution_count": 81,
   "id": "773ad1d6-6222-47a3-a58d-6d0b7e3092d0",
   "metadata": {},
   "outputs": [
    {
     "data": {
      "text/html": [
       "<div>\n",
       "<style scoped>\n",
       "    .dataframe tbody tr th:only-of-type {\n",
       "        vertical-align: middle;\n",
       "    }\n",
       "\n",
       "    .dataframe tbody tr th {\n",
       "        vertical-align: top;\n",
       "    }\n",
       "\n",
       "    .dataframe thead th {\n",
       "        text-align: right;\n",
       "    }\n",
       "</style>\n",
       "<table border=\"1\" class=\"dataframe\">\n",
       "  <thead>\n",
       "    <tr style=\"text-align: right;\">\n",
       "      <th></th>\n",
       "      <th>LOAN</th>\n",
       "      <th>MORTDUE</th>\n",
       "      <th>VALUE</th>\n",
       "      <th>YOJ</th>\n",
       "      <th>DEROG</th>\n",
       "      <th>DELINQ</th>\n",
       "      <th>CLAGE</th>\n",
       "      <th>NINQ</th>\n",
       "      <th>CLNO</th>\n",
       "      <th>DEBTINC</th>\n",
       "      <th>REASON_DebtCon</th>\n",
       "      <th>REASON_HomeImp</th>\n",
       "      <th>JOB_Mgr</th>\n",
       "      <th>JOB_Office</th>\n",
       "      <th>JOB_Other</th>\n",
       "      <th>JOB_ProfExe</th>\n",
       "      <th>JOB_Sales</th>\n",
       "      <th>JOB_Self</th>\n",
       "    </tr>\n",
       "  </thead>\n",
       "  <tbody>\n",
       "    <tr>\n",
       "      <th>0</th>\n",
       "      <td>-1.562299</td>\n",
       "      <td>-1.127666e+00</td>\n",
       "      <td>-1.104011e+00</td>\n",
       "      <td>2.179581e-01</td>\n",
       "      <td>-0.320564</td>\n",
       "      <td>-4.196817e-01</td>\n",
       "      <td>-1.022064e+00</td>\n",
       "      <td>-0.112562</td>\n",
       "      <td>-1.236106e+00</td>\n",
       "      <td>9.309958e-16</td>\n",
       "      <td>False</td>\n",
       "      <td>True</td>\n",
       "      <td>False</td>\n",
       "      <td>False</td>\n",
       "      <td>True</td>\n",
       "      <td>False</td>\n",
       "      <td>False</td>\n",
       "      <td>False</td>\n",
       "    </tr>\n",
       "    <tr>\n",
       "      <th>1</th>\n",
       "      <td>-1.544453</td>\n",
       "      <td>-8.728829e-02</td>\n",
       "      <td>-5.872016e-01</td>\n",
       "      <td>-2.655546e-01</td>\n",
       "      <td>-0.320564</td>\n",
       "      <td>1.447884e+00</td>\n",
       "      <td>-6.933423e-01</td>\n",
       "      <td>-0.717557</td>\n",
       "      <td>-7.334643e-01</td>\n",
       "      <td>9.309958e-16</td>\n",
       "      <td>False</td>\n",
       "      <td>True</td>\n",
       "      <td>False</td>\n",
       "      <td>False</td>\n",
       "      <td>True</td>\n",
       "      <td>False</td>\n",
       "      <td>False</td>\n",
       "      <td>False</td>\n",
       "    </tr>\n",
       "    <tr>\n",
       "      <th>2</th>\n",
       "      <td>-1.526606</td>\n",
       "      <td>-1.418642e+00</td>\n",
       "      <td>-1.496786e+00</td>\n",
       "      <td>-6.799940e-01</td>\n",
       "      <td>-0.320564</td>\n",
       "      <td>-4.196817e-01</td>\n",
       "      <td>-3.626262e-01</td>\n",
       "      <td>-0.112562</td>\n",
       "      <td>-1.135578e+00</td>\n",
       "      <td>9.309958e-16</td>\n",
       "      <td>False</td>\n",
       "      <td>True</td>\n",
       "      <td>False</td>\n",
       "      <td>False</td>\n",
       "      <td>True</td>\n",
       "      <td>False</td>\n",
       "      <td>False</td>\n",
       "      <td>False</td>\n",
       "    </tr>\n",
       "    <tr>\n",
       "      <th>3</th>\n",
       "      <td>-1.526606</td>\n",
       "      <td>3.425767e-16</td>\n",
       "      <td>-2.560192e-16</td>\n",
       "      <td>-2.453974e-16</td>\n",
       "      <td>0.000000</td>\n",
       "      <td>-5.183537e-17</td>\n",
       "      <td>3.401514e-16</td>\n",
       "      <td>0.000000</td>\n",
       "      <td>3.571484e-16</td>\n",
       "      <td>9.309958e-16</td>\n",
       "      <td>True</td>\n",
       "      <td>False</td>\n",
       "      <td>False</td>\n",
       "      <td>False</td>\n",
       "      <td>True</td>\n",
       "      <td>False</td>\n",
       "      <td>False</td>\n",
       "      <td>False</td>\n",
       "    </tr>\n",
       "    <tr>\n",
       "      <th>4</th>\n",
       "      <td>-1.508759</td>\n",
       "      <td>5.659230e-01</td>\n",
       "      <td>1.798751e-01</td>\n",
       "      <td>-8.181404e-01</td>\n",
       "      <td>-0.320564</td>\n",
       "      <td>-4.196817e-01</td>\n",
       "      <td>-1.034431e+00</td>\n",
       "      <td>-0.717557</td>\n",
       "      <td>-7.334643e-01</td>\n",
       "      <td>9.309958e-16</td>\n",
       "      <td>False</td>\n",
       "      <td>True</td>\n",
       "      <td>False</td>\n",
       "      <td>True</td>\n",
       "      <td>False</td>\n",
       "      <td>False</td>\n",
       "      <td>False</td>\n",
       "      <td>False</td>\n",
       "    </tr>\n",
       "  </tbody>\n",
       "</table>\n",
       "</div>"
      ],
      "text/plain": [
       "       LOAN       MORTDUE         VALUE           YOJ     DEROG        DELINQ  \\\n",
       "0 -1.562299 -1.127666e+00 -1.104011e+00  2.179581e-01 -0.320564 -4.196817e-01   \n",
       "1 -1.544453 -8.728829e-02 -5.872016e-01 -2.655546e-01 -0.320564  1.447884e+00   \n",
       "2 -1.526606 -1.418642e+00 -1.496786e+00 -6.799940e-01 -0.320564 -4.196817e-01   \n",
       "3 -1.526606  3.425767e-16 -2.560192e-16 -2.453974e-16  0.000000 -5.183537e-17   \n",
       "4 -1.508759  5.659230e-01  1.798751e-01 -8.181404e-01 -0.320564 -4.196817e-01   \n",
       "\n",
       "          CLAGE      NINQ          CLNO       DEBTINC  REASON_DebtCon  \\\n",
       "0 -1.022064e+00 -0.112562 -1.236106e+00  9.309958e-16           False   \n",
       "1 -6.933423e-01 -0.717557 -7.334643e-01  9.309958e-16           False   \n",
       "2 -3.626262e-01 -0.112562 -1.135578e+00  9.309958e-16           False   \n",
       "3  3.401514e-16  0.000000  3.571484e-16  9.309958e-16            True   \n",
       "4 -1.034431e+00 -0.717557 -7.334643e-01  9.309958e-16           False   \n",
       "\n",
       "   REASON_HomeImp  JOB_Mgr  JOB_Office  JOB_Other  JOB_ProfExe  JOB_Sales  \\\n",
       "0            True    False       False       True        False      False   \n",
       "1            True    False       False       True        False      False   \n",
       "2            True    False       False       True        False      False   \n",
       "3           False    False       False       True        False      False   \n",
       "4            True    False        True      False        False      False   \n",
       "\n",
       "   JOB_Self  \n",
       "0     False  \n",
       "1     False  \n",
       "2     False  \n",
       "3     False  \n",
       "4     False  "
      ]
     },
     "execution_count": 81,
     "metadata": {},
     "output_type": "execute_result"
    }
   ],
   "source": [
    "df.head()"
   ]
  },
  {
   "cell_type": "markdown",
   "id": "2ab7b032-e277-4e76-8171-9efc08f0f9fb",
   "metadata": {},
   "source": [
    "## Spliting Data into Training and Testing"
   ]
  },
  {
   "cell_type": "code",
   "execution_count": 82,
   "id": "c8725f0e-35b4-4e40-9654-cc0e8b73062d",
   "metadata": {},
   "outputs": [],
   "source": [
    "from sklearn.model_selection import train_test_split, StratifiedShuffleSplit"
   ]
  },
  {
   "cell_type": "code",
   "execution_count": 83,
   "id": "2a63bfb0-75d2-447d-af3c-e75e350f680a",
   "metadata": {},
   "outputs": [],
   "source": [
    "X_train, X_test, y_train, y_test = train_test_split(df, loan_label, test_size=.2, random_state=True)"
   ]
  },
  {
   "cell_type": "code",
   "execution_count": 84,
   "id": "60f81a3d-dfba-432c-9c21-0ea13a236f79",
   "metadata": {},
   "outputs": [
    {
     "name": "stdout",
     "output_type": "stream",
     "text": [
      "(4768, 18)\n",
      "(1192, 18)\n",
      "(4768,)\n",
      "(1192,)\n"
     ]
    }
   ],
   "source": [
    "print(X_train.shape)\n",
    "print(X_test.shape)\n",
    "\n",
    "print(y_train.shape)\n",
    "print(y_test.shape)"
   ]
  },
  {
   "cell_type": "code",
   "execution_count": 85,
   "id": "861c6fec-af8a-4fb6-acb9-6e8f9fc25ff0",
   "metadata": {},
   "outputs": [
    {
     "data": {
      "text/plain": [
       "(4768, 18)"
      ]
     },
     "execution_count": 85,
     "metadata": {},
     "output_type": "execute_result"
    }
   ],
   "source": [
    "X_train.shape"
   ]
  },
  {
   "cell_type": "markdown",
   "id": "775e479a-002c-452d-86c6-01c3555f1d5a",
   "metadata": {},
   "source": [
    "### Model training on the data set"
   ]
  },
  {
   "cell_type": "code",
   "execution_count": 86,
   "id": "715a67c5-a36e-4b9e-96b8-88757e4760d3",
   "metadata": {},
   "outputs": [],
   "source": [
    "from sklearn.linear_model import LogisticRegression\n",
    "from sklearn.tree import DecisionTreeClassifier\n",
    "from sklearn.ensemble import RandomForestClassifier\n",
    "from sklearn.svm import SVC\n",
    "from sklearn.metrics import f1_score\n",
    "from sklearn.metrics import fbeta_score\n",
    "from sklearn.metrics import accuracy_score\n",
    "from sklearn.metrics import precision_score"
   ]
  },
  {
   "cell_type": "code",
   "execution_count": 87,
   "id": "3e5d16a7-439a-4e22-ab4d-8864c8f958a2",
   "metadata": {},
   "outputs": [],
   "source": [
    "# creating an instance of each models\n",
    "model_1 = LogisticRegression()\n",
    "#model_1.fit(X_train, y_train)\n",
    "model_2 = DecisionTreeClassifier()\n",
    "model_3 = RandomForestClassifier()\n",
    "model_4 = SVC()"
   ]
  },
  {
   "cell_type": "code",
   "execution_count": 88,
   "id": "27132ad9-2e04-437d-8d23-c294e3f878f5",
   "metadata": {},
   "outputs": [],
   "source": [
    "# Model evaluation function\n",
    "def eval(Model):\n",
    "    Model = Model.fit(X_train , y_train)\n",
    "    Model_predict_train = Model.predict(X_train)\n",
    "    Model_predict_test = Model.predict(X_test)\n",
    "    \n",
    "    accuracy_score_train = accuracy_score(Model_predict_train , y_train)\n",
    "    accuracy_score_test = accuracy_score(Model_predict_test , y_test)\n",
    "    \n",
    "    print (f\"The model has an accuracy score of {accuracy_score_train} on training and {accuracy_score_test} on testing.\")"
   ]
  },
  {
   "cell_type": "markdown",
   "id": "75cc6bc2-3cd5-4f8f-b427-e73a2306a5ff",
   "metadata": {},
   "source": [
    "### Model Evaluation"
   ]
  },
  {
   "cell_type": "code",
   "execution_count": 89,
   "id": "f1910f26-8757-4edc-b144-7235cfb3f8c8",
   "metadata": {},
   "outputs": [
    {
     "name": "stdout",
     "output_type": "stream",
     "text": [
      "The model has an accuracy score of 0.8418624161073825 on training and 0.8154362416107382 on testing.\n"
     ]
    }
   ],
   "source": [
    "eval(model_1)"
   ]
  },
  {
   "cell_type": "code",
   "execution_count": 90,
   "id": "51340266-28cb-4f46-89ad-072e216afb51",
   "metadata": {},
   "outputs": [
    {
     "name": "stdout",
     "output_type": "stream",
     "text": [
      "The model has an accuracy score of 1.0 on training and 0.8766778523489933 on testing.\n"
     ]
    }
   ],
   "source": [
    "eval(model_2)"
   ]
  },
  {
   "cell_type": "code",
   "execution_count": 91,
   "id": "f9de3ec1-febb-490f-b2d4-ae2c8b490952",
   "metadata": {},
   "outputs": [
    {
     "name": "stdout",
     "output_type": "stream",
     "text": [
      "The model has an accuracy score of 1.0 on training and 0.924496644295302 on testing.\n"
     ]
    }
   ],
   "source": [
    "eval(model_3)"
   ]
  },
  {
   "cell_type": "code",
   "execution_count": 92,
   "id": "5a70fc16-fb8b-4e33-95d6-a17956ec2395",
   "metadata": {},
   "outputs": [
    {
     "name": "stdout",
     "output_type": "stream",
     "text": [
      "The model has an accuracy score of 0.8968120805369127 on training and 0.8666107382550335 on testing.\n"
     ]
    }
   ],
   "source": [
    "eval(model_4)"
   ]
  },
  {
   "cell_type": "markdown",
   "id": "c5624b42-12ff-49bb-b67e-61b756948ec3",
   "metadata": {},
   "source": [
    "Model_3(RandomForestClassifier) has the best accuracy of 1.0 and 0.92 on training and testing dataset respectively. While model_2(DecisionTreeClassifier) overfits more. Model_4(SVC) is slightly low, while Model_1(LogisticRegression) has lowest accuracy on both training and testing dataset."
   ]
  },
  {
   "cell_type": "code",
   "execution_count": 93,
   "id": "c57717f3-93fd-4503-9c0a-c235f4b03e95",
   "metadata": {},
   "outputs": [],
   "source": [
    "from sklearn.model_selection import cross_val_score\n",
    "from sklearn.model_selection import cross_val_predict"
   ]
  },
  {
   "cell_type": "code",
   "execution_count": 94,
   "id": "a82b10e1-036d-4080-9abe-c04b7c8b4385",
   "metadata": {},
   "outputs": [
    {
     "data": {
      "text/plain": [
       "array([0.83773585, 0.83511643, 0.84581498])"
      ]
     },
     "execution_count": 94,
     "metadata": {},
     "output_type": "execute_result"
    }
   ],
   "source": [
    "cross_val_score(model_1 , X_train ,y_train ,  cv = 3, scoring=\"accuracy\")"
   ]
  },
  {
   "cell_type": "code",
   "execution_count": 95,
   "id": "b04a273d-8562-423c-8a9a-18bac550bf17",
   "metadata": {},
   "outputs": [
    {
     "data": {
      "text/plain": [
       "array([0.87735849, 0.8628068 , 0.86721208])"
      ]
     },
     "execution_count": 95,
     "metadata": {},
     "output_type": "execute_result"
    }
   ],
   "source": [
    "cross_val_score(model_2 , X_train ,y_train ,  cv = 3, scoring=\"accuracy\")"
   ]
  },
  {
   "cell_type": "code",
   "execution_count": 96,
   "id": "0f72a376-d482-4420-800b-0a00c4f5f0f1",
   "metadata": {},
   "outputs": [
    {
     "data": {
      "text/plain": [
       "array([0.92138365, 0.91692889, 0.90937697])"
      ]
     },
     "execution_count": 96,
     "metadata": {},
     "output_type": "execute_result"
    }
   ],
   "source": [
    "cross_val_score(model_3 , X_train ,y_train ,  cv = 3, scoring=\"accuracy\")"
   ]
  },
  {
   "cell_type": "code",
   "execution_count": 97,
   "id": "43a868f1-4c07-4f9b-800f-bb8485991e50",
   "metadata": {},
   "outputs": [
    {
     "data": {
      "text/plain": [
       "array([0.86855346, 0.87916929, 0.86784141])"
      ]
     },
     "execution_count": 97,
     "metadata": {},
     "output_type": "execute_result"
    }
   ],
   "source": [
    "cross_val_score(model_4 , X_train ,y_train ,  cv = 3, scoring=\"accuracy\")"
   ]
  },
  {
   "cell_type": "code",
   "execution_count": 98,
   "id": "8a4c2126-adc8-4ccb-8263-cba2deb8479b",
   "metadata": {},
   "outputs": [
    {
     "data": {
      "text/plain": [
       "array([1, 0, 0, ..., 0, 0, 0], shape=(4768,))"
      ]
     },
     "execution_count": 98,
     "metadata": {},
     "output_type": "execute_result"
    }
   ],
   "source": [
    "predictions = cross_val_predict(model_4, X_train, y_train, cv=4)\n",
    "predictions"
   ]
  },
  {
   "cell_type": "code",
   "execution_count": 99,
   "id": "205ca908-93aa-46ee-89df-8f636dc4998b",
   "metadata": {},
   "outputs": [],
   "source": [
    "from sklearn.metrics import classification_report, confusion_matrix"
   ]
  },
  {
   "cell_type": "code",
   "execution_count": 100,
   "id": "8957d7ce-752a-4132-840d-ffe970cf5b2e",
   "metadata": {},
   "outputs": [
    {
     "name": "stdout",
     "output_type": "stream",
     "text": [
      "              precision    recall  f1-score   support\n",
      "\n",
      "           0       0.93      0.98      0.95       944\n",
      "           1       0.91      0.71      0.80       248\n",
      "\n",
      "    accuracy                           0.92      1192\n",
      "   macro avg       0.92      0.84      0.87      1192\n",
      "weighted avg       0.92      0.92      0.92      1192\n",
      "\n"
     ]
    }
   ],
   "source": [
    "y_predict = model_3.predict(X_test)\n",
    "print(classification_report(y_test, y_predict)) #print classification report"
   ]
  },
  {
   "cell_type": "code",
   "execution_count": 101,
   "id": "9d6b63e2-c3d1-40d3-b06b-ee7fabe34a6f",
   "metadata": {},
   "outputs": [
    {
     "name": "stdout",
     "output_type": "stream",
     "text": [
      "              precision    recall  f1-score   support\n",
      "\n",
      "           0       0.86      1.00      0.92       944\n",
      "           1       0.99      0.36      0.53       248\n",
      "\n",
      "    accuracy                           0.87      1192\n",
      "   macro avg       0.92      0.68      0.73      1192\n",
      "weighted avg       0.88      0.87      0.84      1192\n",
      "\n"
     ]
    }
   ],
   "source": [
    "y_predict_4 = model_4.predict(X_test)\n",
    "print(classification_report(y_test, y_predict_4)) #print classification report"
   ]
  },
  {
   "cell_type": "markdown",
   "id": "1e7e82dd-f7c9-4ef6-9b97-30d2bd885a28",
   "metadata": {},
   "source": [
    "model_3: Precision = 0.93, Recall = 0.85, F1-score = 0.88\n",
    "\n",
    "model_4: Precision = 0.92, Recall = 0.68, F1-score = 0.73\n"
   ]
  },
  {
   "cell_type": "code",
   "execution_count": 102,
   "id": "a7e1d44e-c405-4ddf-90df-2594996f16e3",
   "metadata": {},
   "outputs": [
    {
     "name": "stdout",
     "output_type": "stream",
     "text": [
      "[[927  17]\n",
      " [ 73 175]] \n",
      "\n",
      "[[943   1]\n",
      " [158  90]]\n"
     ]
    }
   ],
   "source": [
    "cm_3 = confusion_matrix(y_test, y_predict)\n",
    "print(cm_3, \"\\n\")\n",
    "\n",
    "cm_4 = confusion_matrix(y_test, y_predict_4)\n",
    "print(cm_4)"
   ]
  },
  {
   "cell_type": "code",
   "execution_count": 103,
   "id": "ef5eac0d-c7b2-497c-9d10-eee97274ac00",
   "metadata": {},
   "outputs": [
    {
     "data": {
      "image/png": "[encoded data removed]",
      "text/plain": [
       "<Figure size 640x480 with 2 Axes>"
      ]
     },
     "metadata": {},
     "output_type": "display_data"
    }
   ],
   "source": [
    "#Plot the confusion matrix.\n",
    "sb.heatmap(cm_3,\n",
    "            annot=True,\n",
    "            fmt='g',\n",
    "            xticklabels=['Bad', 'Good'],\n",
    "            yticklabels=['Bad', 'Good'])\n",
    "plt.ylabel('Prediction',fontsize=13)\n",
    "plt.xlabel('Actual',fontsize=13)\n",
    "plt.title('Confusion Matrix',fontsize=17)\n",
    "plt.show()"
   ]
  },
  {
   "cell_type": "markdown",
   "id": "db062ff5-35df-4a2d-aaaa-5eb11e8da112",
   "metadata": {},
   "source": [
    "### Conclusion\n",
    "model_3(RandomForestClassifier) report indicates a classifier that maintains a good balance between capturing most instances of both classes and keeping false positives low. While model_4(SVC) report, while ensuring all class 0 cases are detected, significantly underperforms in identifying class 1 instances, leading to lower overall accuracy and F1-scores. Therefore, model_3(RandomForestClassifier) would generally be more reliable."
   ]
  },
  {
   "cell_type": "markdown",
   "id": "efc31c18-5a5a-438c-a840-7029cea74718",
   "metadata": {},
   "source": [
    "## Hyperparameter Tuning Using GridsearchCV"
   ]
  },
  {
   "cell_type": "code",
   "execution_count": 104,
   "id": "b2b75d03-0ad5-45e4-aa4e-1d45e8d37450",
   "metadata": {},
   "outputs": [],
   "source": [
    "from sklearn.ensemble import RandomForestClassifier\n",
    "from sklearn.model_selection import GridSearchCV"
   ]
  },
  {
   "cell_type": "code",
   "execution_count": 105,
   "id": "662eeebd-f876-4b88-b7e1-eacea7a07427",
   "metadata": {},
   "outputs": [],
   "source": [
    "# # defining parameter range\n",
    "# param_grid = {\n",
    "#     'n_estimators': [100, 200, 300],\n",
    "#     'max_depth': [None, 10, 20, 30],\n",
    "#     'min_samples_split': [2, 5, 10],\n",
    "#     'min_samples_leaf': [1, 2, 4],\n",
    "#     'max_features': ['auto', 'sqrt', 'log2']\n",
    "# }\n",
    "\n",
    "\n",
    "\n",
    "# rf = RandomForestClassifier(random_state=42)\n",
    "# grid_search = GridSearchCV(estimator=rf, param_grid=param_grid, \n",
    "#                            cv=5, scoring='accuracy', n_jobs=-1)\n",
    "# # fitting the model for grid search\n",
    "# grid_search.fit(X_train, y_train)"
   ]
  },
  {
   "cell_type": "code",
   "execution_count": 106,
   "id": "73ffe437-970f-44e6-995f-5f1a712416ce",
   "metadata": {},
   "outputs": [
    {
     "name": "stdout",
     "output_type": "stream",
     "text": [
      "Best Parameters: {'max_depth': 20, 'max_features': 'sqrt', 'min_samples_leaf': 1, 'min_samples_split': 2, 'n_estimators': 300}\n",
      "Best Score: 0.9205092161792947\n"
     ]
    }
   ],
   "source": [
    "# print best parameter after tuning\n",
    "print(\"Best Parameters:\", grid_search.best_params_)\n",
    "\n",
    "# print how our model looks after hyper-parameter tuning\n",
    "print(\"Best Score:\", grid_search.best_score_)"
   ]
  },
  {
   "cell_type": "code",
   "execution_count": 107,
   "id": "08a50b3b-2499-4515-865e-9e8643b8c617",
   "metadata": {},
   "outputs": [
    {
     "name": "stderr",
     "output_type": "stream",
     "text": [
      "/home/codespace/.local/lib/python3.12/site-packages/sklearn/model_selection/_validation.py:528: FitFailedWarning: \n",
      "150 fits failed out of a total of 500.\n",
      "The score on these train-test partitions for these parameters will be set to nan.\n",
      "If these failures are not expected, you can try to debug them by setting error_score='raise'.\n",
      "\n",
      "Below are more details about the failures:\n",
      "--------------------------------------------------------------------------------\n",
      "70 fits failed with the following error:\n",
      "Traceback (most recent call last):\n",
      "  File \"/home/codespace/.local/lib/python3.12/site-packages/sklearn/model_selection/_validation.py\", line 866, in _fit_and_score\n",
      "    estimator.fit(X_train, y_train, **fit_params)\n",
      "  File \"/home/codespace/.local/lib/python3.12/site-packages/sklearn/base.py\", line 1382, in wrapper\n",
      "    estimator._validate_params()\n",
      "  File \"/home/codespace/.local/lib/python3.12/site-packages/sklearn/base.py\", line 436, in _validate_params\n",
      "    validate_parameter_constraints(\n",
      "  File \"/home/codespace/.local/lib/python3.12/site-packages/sklearn/utils/_param_validation.py\", line 98, in validate_parameter_constraints\n",
      "    raise InvalidParameterError(\n",
      "sklearn.utils._param_validation.InvalidParameterError: The 'max_features' parameter of RandomForestClassifier must be an int in the range [1, inf), a float in the range (0.0, 1.0], a str among {'sqrt', 'log2'} or None. Got 'auto' instead.\n",
      "\n",
      "--------------------------------------------------------------------------------\n",
      "80 fits failed with the following error:\n",
      "Traceback (most recent call last):\n",
      "  File \"/home/codespace/.local/lib/python3.12/site-packages/sklearn/model_selection/_validation.py\", line 866, in _fit_and_score\n",
      "    estimator.fit(X_train, y_train, **fit_params)\n",
      "  File \"/home/codespace/.local/lib/python3.12/site-packages/sklearn/base.py\", line 1382, in wrapper\n",
      "    estimator._validate_params()\n",
      "  File \"/home/codespace/.local/lib/python3.12/site-packages/sklearn/base.py\", line 436, in _validate_params\n",
      "    validate_parameter_constraints(\n",
      "  File \"/home/codespace/.local/lib/python3.12/site-packages/sklearn/utils/_param_validation.py\", line 98, in validate_parameter_constraints\n",
      "    raise InvalidParameterError(\n",
      "sklearn.utils._param_validation.InvalidParameterError: The 'max_features' parameter of RandomForestClassifier must be an int in the range [1, inf), a float in the range (0.0, 1.0], a str among {'log2', 'sqrt'} or None. Got 'auto' instead.\n",
      "\n",
      "  warnings.warn(some_fits_failed_message, FitFailedWarning)\n",
      "/home/codespace/.local/lib/python3.12/site-packages/sklearn/model_selection/_search.py:1107: UserWarning: One or more of the test scores are non-finite: [0.89974548 0.90645716 0.8999549         nan 0.90897354 0.9077148\n",
      " 0.89953606 0.91337803 0.9196702         nan 0.91589464 0.89869704\n",
      "        nan 0.90855469 0.89764904        nan        nan 0.91526505\n",
      " 0.91568433 0.9077148         nan 0.91673255 0.90813452 0.90834461\n",
      "        nan        nan 0.91904061 0.89743808 0.89785781 0.90792466\n",
      " 0.91190987        nan 0.90855469 0.92029979        nan        nan\n",
      " 0.90708609 0.90708609 0.91442581 0.90037507 0.91841212 0.91526505\n",
      "        nan        nan 0.91883229 0.89764882 0.90813496        nan\n",
      "        nan        nan 0.91715316 0.91820182 0.9163137  0.90897354\n",
      "        nan        nan        nan 0.90855469 0.90813496        nan\n",
      " 0.91505584 0.91841212 0.90813496        nan 0.91589464        nan\n",
      "        nan 0.92029979 0.9163137         nan 0.90918406 0.90855315\n",
      " 0.9182016  0.90645716        nan        nan 0.9146359         nan\n",
      " 0.91505606 0.91715316 0.89638986        nan 0.91568455 0.91190987\n",
      " 0.90813496 0.90897354 0.91757245 0.90939349 0.9077148  0.91526505\n",
      "        nan 0.90813496        nan 0.92029979 0.91925003 0.90813496\n",
      " 0.91946122 0.91946144 0.9123296  0.89743918]\n",
      "  warnings.warn(\n"
     ]
    },
    {
     "name": "stdout",
     "output_type": "stream",
     "text": [
      "Best Parameters: {'n_estimators': 500, 'min_samples_split': 2, 'min_samples_leaf': 1, 'max_features': 'sqrt', 'max_depth': 50}\n",
      "Best Score: 0.9202997925562221\n"
     ]
    }
   ],
   "source": [
    "from sklearn.ensemble import RandomForestClassifier\n",
    "from sklearn.model_selection import RandomizedSearchCV\n",
    "import numpy as np\n",
    "\n",
    "# Define parameter distributions (example with ranges)\n",
    "param_dist = {\n",
    "    'n_estimators': [int(x) for x in np.linspace(100, 500, num=5)],\n",
    "    'max_depth': [None] + [int(x) for x in np.linspace(10, 50, num=5)],\n",
    "    'min_samples_split': [2, 5, 10],\n",
    "    'min_samples_leaf': [1, 2, 4],\n",
    "    'max_features': ['auto', 'sqrt', 'log2']\n",
    "}\n",
    "\n",
    "rf = RandomForestClassifier(random_state=42)\n",
    "random_search = RandomizedSearchCV(estimator=rf, param_distributions=param_dist,\n",
    "                                   n_iter=100, cv=5, scoring='accuracy', \n",
    "                                   n_jobs=-1, random_state=42)\n",
    "random_search.fit(X_train, y_train)\n",
    "\n",
    "print(\"Best Parameters:\", random_search.best_params_)\n",
    "print(\"Best Score:\", random_search.best_score_)\n"
   ]
  },
  {
   "cell_type": "code",
   "execution_count": 112,
   "id": "02a6b238-8f68-4cda-b78e-7bda499750f3",
   "metadata": {},
   "outputs": [
    {
     "name": "stdout",
     "output_type": "stream",
     "text": [
      "              precision    recall  f1-score   support\n",
      "\n",
      "           0       0.92      0.99      0.95       944\n",
      "           1       0.92      0.69      0.79       248\n",
      "\n",
      "    accuracy                           0.92      1192\n",
      "   macro avg       0.92      0.84      0.87      1192\n",
      "weighted avg       0.92      0.92      0.92      1192\n",
      "\n"
     ]
    }
   ],
   "source": [
    "random_predict = random_search.predict(X_test)\n",
    "\n",
    "# print classification report\n",
    "print(classification_report(y_test, random_predict))"
   ]
  },
  {
   "cell_type": "code",
   "execution_count": 113,
   "id": "0f59641b-2112-46e1-9c8c-e1392d31f95e",
   "metadata": {},
   "outputs": [
    {
     "data": {
      "text/plain": [
       "array([[930,  14],\n",
       "       [ 76, 172]])"
      ]
     },
     "execution_count": 113,
     "metadata": {},
     "output_type": "execute_result"
    }
   ],
   "source": [
    "cm = confusion_matrix(y_test, random_predict)\n",
    "cm"
   ]
  },
  {
   "cell_type": "code",
   "execution_count": null,
   "id": "c5d75632-3fe3-4d33-a456-e5e523ccd4b6",
   "metadata": {},
   "outputs": [],
   "source": []
  }
 ],
 "metadata": {
  "kernelspec": {
   "display_name": "Python 3 (ipykernel)",
   "language": "python",
   "name": "python3"
  },
  "language_info": {
   "codemirror_mode": {
    "name": "ipython",
    "version": 3
   },
   "file_extension": ".py",
   "mimetype": "text/x-python",
   "name": "python",
   "nbconvert_exporter": "python",
   "pygments_lexer": "ipython3",
   "version": "3.12.1"
  }
 },
 "nbformat": 4,
 "nbformat_minor": 5
}
